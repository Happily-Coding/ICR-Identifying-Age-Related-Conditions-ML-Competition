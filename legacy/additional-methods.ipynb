{
 "cells": [
  {
   "cell_type": "markdown",
   "metadata": {},
   "source": [
    "# Intro\n",
    "This file contains a collection of potentially useful methods, mostly from discarded approaches."
   ]
  },
  {
   "cell_type": "code",
   "execution_count": null,
   "metadata": {},
   "outputs": [],
   "source": [
    "import pandas as pd\n",
    "def dirtify_prediction(prediction_request):\n",
    "    \"\"\"Adds poorly prepared data to the requested prediction, to make sure your model fail if it can't handle poorly prepared data.\"\"\"\n",
    "    prediction_request['EJ'][0]= pd.NA\n",
    "    prediction_request['EJ'][1] = 'C'\n",
    "    return prediction_request\n",
    "#prediction_request = dirtify_prediction(prediction_request)\n",
    "\n",
    "def replace_column_values(dataframe, name_of_columns_to_replace=[], replacement_dictionary={}):\n",
    "    \"\"\"Replaces values acording to the replacemente dictionary in multiple columns. of the dataframe\"\"\"\n",
    "    for column_name in name_of_columns_to_replace:\n",
    "        dataframe[column_name] = dataframe[column_name].replace(replacement_dictionary)\n",
    "    return dataframe"
   ]
  }
 ],
 "metadata": {
  "language_info": {
   "name": "python"
  }
 },
 "nbformat": 4,
 "nbformat_minor": 2
}
